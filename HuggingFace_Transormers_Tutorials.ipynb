{
  "nbformat": 4,
  "nbformat_minor": 0,
  "metadata": {
    "colab": {
      "name": "HuggingFace_Transormers_Tutorials.ipynb",
      "provenance": [],
      "authorship_tag": "ABX9TyNhe3dJgt9jcIW8NnF9M/aD",
      "include_colab_link": true
    },
    "kernelspec": {
      "name": "python3",
      "display_name": "Python 3"
    },
    "language_info": {
      "name": "python"
    }
  },
  "cells": [
    {
      "cell_type": "markdown",
      "metadata": {
        "id": "view-in-github",
        "colab_type": "text"
      },
      "source": [
        "<a href=\"https://colab.research.google.com/github/arunnaudiyal786/HuggingFace-Transformers/blob/main/HuggingFace_Transormers_Tutorials.ipynb\" target=\"_parent\"><img src=\"https://colab.research.google.com/assets/colab-badge.svg\" alt=\"Open In Colab\"/></a>"
      ]
    },
    {
      "cell_type": "markdown",
      "source": [
        "# **Welcome to Transformers Tutorial !!**\n",
        "**What is NLP**\n",
        "\n",
        "NLP is a field of linguistics and machine learning focused on understanding everything related to human language. The aim of NLP tasks is not only to understand single words individually, but to be able to understand the context of those words.\n",
        "\n",
        "The following is a list of common NLP tasks, with some examples of each:\n",
        "\n",
        "Classifying whole sentences: Getting the sentiment of a review, detecting if an email is spam, determining if a sentence is grammatically correct or whether two sentences are logically related or not\n",
        "Classifying each word in a sentence: Identifying the grammatical components of a sentence (noun, verb, adjective), or the named entities (person, location, organization)\n",
        "Generating text content: Completing a prompt with auto-generated text, filling in the blanks in a text with masked words\n",
        "Extracting an answer from a text: Given a question and a context, extracting the answer to the question based on the information provided in the context\n",
        "Generating a new sentence from an input text: Translating a text into another language, summarizing a text\n",
        "NLP isn’t limited to written text though. It also tackles complex challenges in speech recognition and computer vision, such as generating a transcript of an audio sample or a description of an image.\n",
        "\n",
        "**Why is it challenging?**\n",
        "\n",
        "Computers don’t process information in the same way as humans. For example, when we read the sentence “I am hungry,” we can easily understand its meaning. Similarly, given two sentences such as “I am hungry” and “I am sad,” we’re able to easily determine how similar they are. For machine learning (ML) models, such tasks are more difficult. The text needs to be processed in a way that enables the model to learn from it. And because language is complex, we need to think carefully about how this processing must be done. There has been a lot of research done on how to represent text, and we will look at some methods in the next chapter.\n"
      ],
      "metadata": {
        "id": "xan4QeiwT3gN"
      }
    },
    {
      "cell_type": "markdown",
      "source": [
        ""
      ],
      "metadata": {
        "id": "fid-1e47YnpS"
      }
    }
  ]
}